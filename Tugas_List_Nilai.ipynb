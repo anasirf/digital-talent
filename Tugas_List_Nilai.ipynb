{
 "cells": [
  {
   "cell_type": "code",
   "execution_count": 43,
   "metadata": {},
   "outputs": [
    {
     "name": "stdout",
     "output_type": "stream",
     "text": [
      "[10, 67, 24, 42, 7, 48, 28, 70, 66, 78, 92, 93, 42, 17, 58, 29, 33, 19, 93, 98, 74, 4, 29, 58, 14, 44, 54, 69, 54, 48, 23, 20, 8, 63, 25, 4, 94, 43, 11, 15, 85, 88, 33, 43, 63, 10, 11, 93, 62, 25, 43, 2, 18, 5, 77, 92, 77, 42, 90, 72, 10, 13, 43, 17, 52, 70, 37, 76, 50, 27, 88, 21, 42, 75, 61, 52, 70, 25, 30, 62, 4, 89, 77, 51, 48, 96, 90, 54, 2, 12, 73, 3, 63, 11, 7, 84, 78, 90, 5, 63, 86, 84, 12, 84, 71, 72, 64, 79, 13, 41, 98, 62, 53, 90, 18, 98, 88, 90, 82, 72, 50, 47, 5, 97, 21, 69, 51, 24, 71, 35, 22, 39, 63, 96, 38, 65, 19, 82, 95, 28, 86, 79, 52, 74, 46, 75, 8, 4, 92, 50, 62, 1, 88, 49, 78, 40, 6, 18, 25, 80, 69, 98, 32, 59, 58, 89, 12, 21, 25, 95, 85, 22, 19, 31, 18, 43, 35, 35, 67, 95, 95, 40, 87, 41, 74, 73, 9, 2, 83, 73, 13, 9, 16, 33, 77, 40, 7, 69, 51, 42, 69, 87, 27, 18, 95, 92, 91, 44, 47, 2, 46, 51, 75, 42, 32, 37, 5, 68, 8, 71, 33, 47, 41, 22, 79, 60, 58, 99, 94, 94, 63, 40, 38, 4, 53, 79, 6, 9, 70, 9, 61, 43, 75, 12, 84, 95, 33, 10, 64, 65]\n"
     ]
    }
   ],
   "source": [
    "import random\n",
    "\n",
    "# GENERATE RANDOM\n",
    "nilaiTugas = []\n",
    "for i in range(250):\n",
    "    nilaiTugas.append(random.randrange(1,100,1))\n",
    "\n",
    "print(nilaiTugas)\n",
    "\n",
    "# TAMPILKAN:\n",
    "# ganjil\n",
    "# nilai > 70\n",
    "# standar deviasi\n",
    "# maksimum\n",
    "# minimum\n",
    "# modus"
   ]
  },
  {
   "cell_type": "markdown",
   "metadata": {},
   "source": [
    "###ganjil"
   ]
  },
  {
   "cell_type": "code",
   "execution_count": 44,
   "metadata": {},
   "outputs": [
    {
     "name": "stdout",
     "output_type": "stream",
     "text": [
      "Nilai ganjil : [67, 7, 93, 17, 29, 33, 19, 93, 29, 69, 23, 63, 25, 43, 11, 15, 85, 33, 43, 63, 11, 93, 25, 43, 5, 77, 77, 13, 43, 17, 37, 27, 21, 75, 61, 25, 89, 77, 51, 73, 3, 63, 11, 7, 5, 63, 71, 79, 13, 41, 53, 47, 5, 97, 21, 69, 51, 71, 35, 39, 63, 65, 19, 95, 79, 75, 1, 49, 25, 69, 59, 89, 21, 25, 95, 85, 19, 31, 43, 35, 35, 67, 95, 95, 87, 41, 73, 9, 83, 73, 13, 9, 33, 77, 7, 69, 51, 69, 87, 27, 95, 91, 47, 51, 75, 37, 5, 71, 33, 47, 41, 79, 99, 63, 53, 79, 9, 9, 61, 43, 75, 95, 33, 65]\n"
     ]
    }
   ],
   "source": [
    "ganjil=[]\n",
    "for n in nilaiTugas:\n",
    "    if n%2==1:\n",
    "        ganjil.append(n)\n",
    "print(\"Nilai ganjil :\",ganjil)"
   ]
  },
  {
   "cell_type": "markdown",
   "metadata": {},
   "source": [
    "###standar deviasi"
   ]
  },
  {
   "cell_type": "code",
   "execution_count": 45,
   "metadata": {},
   "outputs": [
    {
     "name": "stdout",
     "output_type": "stream",
     "text": [
      "Standar Deviasi dari nilaiTugas adalah 29.55161137636591 \n"
     ]
    }
   ],
   "source": [
    "# Python code to demonstrate stdev() function \n",
    "# importing Statistics module \n",
    "import statistics \n",
    "  \n",
    "# creating a simple data - set \n",
    "sample = (nilaiTugas)\n",
    "  \n",
    "# Prints standard deviation \n",
    "# xbar is set to default value of 1 \n",
    "print(\"Standar Deviasi dari nilaiTugas adalah % s \" \n",
    "                % (statistics.stdev(sample))) "
   ]
  },
  {
   "cell_type": "markdown",
   "metadata": {},
   "source": [
    "###max & min"
   ]
  },
  {
   "cell_type": "code",
   "execution_count": 46,
   "metadata": {},
   "outputs": [
    {
     "name": "stdout",
     "output_type": "stream",
     "text": [
      "nilai tertinggi dari nilai tugas : 99\n"
     ]
    }
   ],
   "source": [
    "# Python code to demonstrate the working of \n",
    "# max() \n",
    "\n",
    "# printing the maximum of 4,12,43.3,19,100 \n",
    "print(\"nilai tertinggi dari nilai tugas : \",end=\"\") \n",
    "print (max( nilaiTugas ) ) "
   ]
  },
  {
   "cell_type": "code",
   "execution_count": 47,
   "metadata": {},
   "outputs": [
    {
     "name": "stdout",
     "output_type": "stream",
     "text": [
      "nilai terendah dari nilai tugas : 1\n"
     ]
    }
   ],
   "source": [
    "# Python code to demonstrate the working of \n",
    "# min() \n",
    "\n",
    "# printing the minimum of 4,12,43.3,19,100 \n",
    "print(\"nilai terendah dari nilai tugas : \",end=\"\") \n",
    "print (min( nilaiTugas ) ) \n"
   ]
  },
  {
   "cell_type": "markdown",
   "metadata": {},
   "source": [
    "###nilai diatas 70"
   ]
  },
  {
   "cell_type": "code",
   "execution_count": 48,
   "metadata": {},
   "outputs": [
    {
     "name": "stdout",
     "output_type": "stream",
     "text": [
      "Jumlah siswa dengan nilai diatas 70 : 78\n"
     ]
    }
   ],
   "source": [
    "lulus=0\n",
    "for n in nilaiTugas:\n",
    "    if n>70:\n",
    "        lulus=lulus+1\n",
    "print(\"Jumlah siswa dengan nilai diatas 70 :\",lulus)"
   ]
  },
  {
   "cell_type": "markdown",
   "metadata": {},
   "source": [
    "###modus"
   ]
  },
  {
   "cell_type": "code",
   "execution_count": 49,
   "metadata": {},
   "outputs": [
    {
     "name": "stdout",
     "output_type": "stream",
     "text": [
      "Modus : 42\n"
     ]
    }
   ],
   "source": [
    "#fungsi mode\n",
    "def modus(lst):\n",
    "    sort_list = sorted(lst)\n",
    "    dict1 = {}\n",
    "    for i in sort_list:        \n",
    "            count = sort_list.count(i)\n",
    "            if i not in dict1.keys():\n",
    "                dict1[i] = count\n",
    "\n",
    "    maximum = 0 #jumlah kemunculan\n",
    "    max_key = -1 #elemen yang memiliki kemunculan tersering\n",
    "\n",
    "    for key in dict1:\n",
    "        if(dict1[key]>maximum):\n",
    "            maximum = dict1[key]\n",
    "            max_key = key \n",
    "        elif(dict1[key]==maximum):\n",
    "            if(key<max_key):\n",
    "                maximum = dict1[key]\n",
    "                max_key = key\n",
    "    return max_key\n",
    "\n",
    "print(\"Modus :\",modus(nilaiTugas))"
   ]
  },
  {
   "cell_type": "code",
   "execution_count": null,
   "metadata": {},
   "outputs": [],
   "source": []
  }
 ],
 "metadata": {
  "kernelspec": {
   "display_name": "Python 3",
   "language": "python",
   "name": "python3"
  },
  "language_info": {
   "codemirror_mode": {
    "name": "ipython",
    "version": 3
   },
   "file_extension": ".py",
   "mimetype": "text/x-python",
   "name": "python",
   "nbconvert_exporter": "python",
   "pygments_lexer": "ipython3",
   "version": "3.7.0"
  }
 },
 "nbformat": 4,
 "nbformat_minor": 2
}
