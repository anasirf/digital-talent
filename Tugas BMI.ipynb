{
 "cells": [
  {
   "cell_type": "code",
   "execution_count": 13,
   "metadata": {
    "scrolled": true
   },
   "outputs": [
    {
     "name": "stdout",
     "output_type": "stream",
     "text": [
      "Masukkan tinggi badan (cm): 174\n",
      "Masukkan berat badan (Kg): 94\n",
      "BMI skor 31.04769454353283\n",
      "Moderately Obese\n"
     ]
    }
   ],
   "source": [
    "#bb = berat badan, tb= tinggi badan\n",
    "meter=100\n",
    "tb=float(input(\"Masukkan tinggi badan (cm): \"))\n",
    "bb=float(input(\"Masukkan berat badan (Kg): \"))\n",
    "c=tb/meter\n",
    "\n",
    "bmi=bb/(c**2)\n",
    "\n",
    "print(\"BMI skor\",bmi)\n",
    "\n",
    "if bmi<15:\n",
    "    print(\"Very severely underweight\")\n",
    "elif bmi>=15 and bmi<16:\n",
    "        print(\"Severely underweight\")\n",
    "elif bmi>=16 and bmi<18.5:\n",
    "            print(\"Underweight\")\n",
    "elif bmi>=18.5 and bmi<25:\n",
    "                print(\"Normal (healthy weight)\")\n",
    "elif bmi>=25 and bmi<30:\n",
    "                    print(\"Overweight\")\n",
    "elif bmi>=30 and bmi<35:\n",
    "                        print(\"Moderately Obese\")\n",
    "elif bmi>=35 and bmi <40:\n",
    "                            print(\"Severely Obese\")\n",
    "else :\n",
    "                                print(\"Very Severely Obese\")\n",
    "                            "
   ]
  }
 ],
 "metadata": {
  "kernelspec": {
   "display_name": "Python 3",
   "language": "python",
   "name": "python3"
  },
  "language_info": {
   "codemirror_mode": {
    "name": "ipython",
    "version": 3
   },
   "file_extension": ".py",
   "mimetype": "text/x-python",
   "name": "python",
   "nbconvert_exporter": "python",
   "pygments_lexer": "ipython3",
   "version": "3.7.0"
  }
 },
 "nbformat": 4,
 "nbformat_minor": 2
}
